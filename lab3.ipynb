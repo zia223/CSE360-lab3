{
 "cells": [
  {
   "cell_type": "code",
   "execution_count": null,
   "id": "6c859b8a",
   "metadata": {},
   "outputs": [],
   "source": [
    "from Motor import *\n",
    "from Ultrasonic import *\n",
    "\n",
    "sonar = Ultrasonic()\n",
    "PWM = Motor()\n",
    "\n",
    "# Using the p controler\n",
    "# Need a distance value and the current distance will determine the gain\n",
    "#\n",
    "\n",
    "def sense():\n",
    "    distance = sonar.get_distance()\n",
    "    print(\"Cur dist == \" + str(distance))\n",
    "    return distance\n",
    "\n",
    "\n",
    "            \n",
    "def pcontroller():\n",
    "    Xd = 50\n",
    "    Xcurr = sense()\n",
    "    k = 80 # gain\n",
    "    \n",
    "    u = (Xd - Xcurr) * k * -1 # control policy\n",
    "    PWM.setMotorModel(u, u, u, u)\n",
    "    print(\"u value: \" + str(u))\n",
    "    \n",
    "    \n",
    "\n",
    "if __name__ == '__main__':\n",
    "    try:\n",
    "        while True:\n",
    "            pcontroller()\n",
    "    except KeyboardInterrupt:\n",
    "        PWM.setMotorModel(0, 0 ,0, 0)\n",
    "    \n",
    "            \n",
    "            \n"
   ]
  }
 ],
 "metadata": {
  "kernelspec": {
   "display_name": "Python 3 (ipykernel)",
   "language": "python",
   "name": "python3"
  },
  "language_info": {
   "codemirror_mode": {
    "name": "ipython",
    "version": 3
   },
   "file_extension": ".py",
   "mimetype": "text/x-python",
   "name": "python",
   "nbconvert_exporter": "python",
   "pygments_lexer": "ipython3",
   "version": "3.9.13"
  }
 },
 "nbformat": 4,
 "nbformat_minor": 5
}
